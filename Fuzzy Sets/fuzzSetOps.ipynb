{
 "cells": [
  {
   "cell_type": "code",
   "execution_count": 1,
   "metadata": {},
   "outputs": [],
   "source": [
    "import random\n",
    "import numpy as np\n",
    "fuzzy_Set_A = dict() \n",
    "fuzzy_Set_B = dict() \n",
    "fuzzy_Set_C = dict() \n",
    "Y = dict()"
   ]
  },
  {
   "cell_type": "code",
   "execution_count": 26,
   "metadata": {},
   "outputs": [],
   "source": [
    "# fuzzy_Set_A = {\"x1\": round(random.uniform(0,1),2), \"x2\": round(random.uniform(0,1),2), \"x3\": round(random.uniform(0,1),2), \"x4\": round(random.uniform(0,1),2)}\n",
    "# fuzzy_Set_B = {\"y1\": round(random.uniform(0,1),2), \"y2\": round(random.uniform(0,1),2), \"y3\": round(random.uniform(0,1),2), \"y4\": round(random.uniform(0,1),2)}\n",
    "# fuzzy_Set_C = {\"z1\": round(random.uniform(0,1),2), \"z2\": round(random.uniform(0,1),2), \"z3\": round(random.uniform(0,1),2), \"z4\": round(random.uniform(0,1),2)}"
   ]
  },
  {
   "cell_type": "code",
   "execution_count": 2,
   "metadata": {},
   "outputs": [
    {
     "name": "stdin",
     "output_type": "stream",
     "text": [
      "Enter size of Fuzzy Set A 4\n",
      "Enter size of Fuzzy Set B 4\n",
      "Enter size of Fuzzy Set C 3\n"
     ]
    }
   ],
   "source": [
    "while True:\n",
    "    sizeA = int(input(\"Enter size of Fuzzy Set A\"))\n",
    "    sizeB = int(input(\"Enter size of Fuzzy Set B\"))\n",
    "    if sizeA != sizeB:\n",
    "        print(\"Cant perfom union and intersection of 2 fuzzy sets of different lengths\")\n",
    "        continue\n",
    "    else:\n",
    "        break\n",
    "        \n",
    "sizeC = int(input(\"Enter size of Fuzzy Set C\"))"
   ]
  },
  {
   "cell_type": "code",
   "execution_count": 3,
   "metadata": {},
   "outputs": [
    {
     "data": {
      "text/plain": [
       "({'x0': 0.31, 'x1': 0.45, 'x2': 0.34, 'x3': 0.97},\n",
       " {'y0': 0.72, 'y1': 0.49, 'y2': 0.16, 'y3': 0.19},\n",
       " {'z0': 0.67, 'z1': 0.88, 'z2': 0.31})"
      ]
     },
     "execution_count": 3,
     "metadata": {},
     "output_type": "execute_result"
    }
   ],
   "source": [
    "for i in range(sizeA):\n",
    "    strA = \"x\"\n",
    "    strA = strA+\"{}\".format(i)\n",
    "    fuzzy_Set_A[strA] = round(random.uniform(0,1),2)\n",
    "    \n",
    "    strB = \"y\"\n",
    "    strB = strB+\"{}\".format(i)\n",
    "    fuzzy_Set_B[strB] = round(random.uniform(0,1),2)\n",
    "    \n",
    "for i in range(sizeC):\n",
    "    strC = \"z\"\n",
    "    strC = strC+\"{}\".format(i)\n",
    "    fuzzy_Set_C[strC] = round(random.uniform(0,1),2)\n",
    "\n",
    "fuzzy_Set_A,fuzzy_Set_B,fuzzy_Set_C"
   ]
  },
  {
   "cell_type": "code",
   "execution_count": 4,
   "metadata": {},
   "outputs": [
    {
     "data": {
      "text/plain": [
       "({'x0': 0.31, 'x1': 0.45, 'x2': 0.34, 'x3': 0.97},\n",
       " {'y0': 0.72, 'y1': 0.49, 'y2': 0.16, 'y3': 0.19},\n",
       " {'z0': 0.67, 'z1': 0.88, 'z2': 0.31})"
      ]
     },
     "execution_count": 4,
     "metadata": {},
     "output_type": "execute_result"
    }
   ],
   "source": [
    "fuzzy_Set_A,fuzzy_Set_B,fuzzy_Set_C"
   ]
  },
  {
   "cell_type": "code",
   "execution_count": 5,
   "metadata": {},
   "outputs": [
    {
     "name": "stdout",
     "output_type": "stream",
     "text": [
      "Union of fuzzy sets A and B is :\n",
      " {'y0': 0.72, 'y1': 0.49, 'x2': 0.34, 'x3': 0.97}\n"
     ]
    }
   ],
   "source": [
    "'''Union'''\n",
    "Y.clear()\n",
    "for keyA, keyB in zip(fuzzy_Set_A, fuzzy_Set_B): \n",
    "    valA = fuzzy_Set_A[keyA] \n",
    "    valB = fuzzy_Set_B[keyB] \n",
    "    if valA > valB: \n",
    "        Y[keyA] = valA \n",
    "    else: \n",
    "        Y[keyB] = valB \n",
    "        \n",
    "print('Union of fuzzy sets A and B is :\\n', Y) "
   ]
  },
  {
   "cell_type": "code",
   "execution_count": 6,
   "metadata": {},
   "outputs": [
    {
     "name": "stdout",
     "output_type": "stream",
     "text": [
      "Intersection of fuzzy sets A and B is :\n",
      " {'x0': 0.31, 'x1': 0.45, 'y2': 0.16, 'y3': 0.19}\n"
     ]
    }
   ],
   "source": [
    "'''Intersection'''\n",
    "Y.clear()\n",
    "for keyA, keyB in zip(fuzzy_Set_A, fuzzy_Set_B): \n",
    "    valA = fuzzy_Set_A[keyA] \n",
    "    valB = fuzzy_Set_B[keyB] \n",
    "    if valA < valB: \n",
    "        Y[keyA] = valA \n",
    "    else: \n",
    "        Y[keyB] = valB \n",
    "        \n",
    "print('Intersection of fuzzy sets A and B is :\\n', Y) "
   ]
  },
  {
   "cell_type": "code",
   "execution_count": 7,
   "metadata": {},
   "outputs": [
    {
     "name": "stdout",
     "output_type": "stream",
     "text": [
      "Compliment of fuzzy set A is :\n",
      " {'x0': 0.69, 'x1': 0.55, 'x2': 0.66, 'x3': 0.03}\n",
      "Compliment of fuzzy set B is :\n",
      " {'y0': 0.28, 'y1': 0.51, 'y2': 0.84, 'y3': 0.81}\n"
     ]
    }
   ],
   "source": [
    "'''Compliment'''\n",
    "Y.clear()\n",
    "for keyA in fuzzy_Set_A.keys(): \n",
    "    Y[keyA] = round(1 - fuzzy_Set_A[keyA],2) \n",
    "print('Compliment of fuzzy set A is :\\n', Y) \n",
    "\n",
    "Y.clear()\n",
    "for keyB in fuzzy_Set_B.keys(): \n",
    "    Y[keyB] = round(1 - fuzzy_Set_B[keyB],2) \n",
    "print('Compliment of fuzzy set B is :\\n', Y) "
   ]
  },
  {
   "cell_type": "code",
   "execution_count": 8,
   "metadata": {},
   "outputs": [
    {
     "name": "stdout",
     "output_type": "stream",
     "text": [
      "Difference of fuzzy sets A and B is :\n",
      " {'y0': 0.28, 'x1': 0.45, 'x2': 0.34, 'y3': 0.81}\n",
      "Difference of fuzzy sets B and A is :\n",
      " {'x0': 0.69, 'y1': 0.49, 'y2': 0.16, 'x3': 0.03}\n"
     ]
    }
   ],
   "source": [
    "'''Difference'''\n",
    "Y.clear()\n",
    "for keyA, keyB in zip(fuzzy_Set_A, fuzzy_Set_B): \n",
    "    valA = fuzzy_Set_A[keyA] \n",
    "    valB = fuzzy_Set_B[keyB] \n",
    "    if valA < round((1 - valB),2): \n",
    "        Y[keyA] = valA \n",
    "    else: \n",
    "        Y[keyB] = round((1 - valB),2)\n",
    "\n",
    "print('Difference of fuzzy sets A and B is :\\n', Y) \n",
    "\n",
    "Y.clear()\n",
    "for keyA, keyB in zip(fuzzy_Set_A, fuzzy_Set_B): \n",
    "    valA = fuzzy_Set_A[keyA] \n",
    "    valB = fuzzy_Set_B[keyB] \n",
    "    if valB < round((1 - valA),2): \n",
    "        Y[keyB] = valB \n",
    "    else: \n",
    "        Y[keyA] = round((1 - valA),2)\n",
    "\n",
    "print('Difference of fuzzy sets B and A is :\\n', Y) "
   ]
  },
  {
   "cell_type": "code",
   "execution_count": 9,
   "metadata": {},
   "outputs": [
    {
     "name": "stdout",
     "output_type": "stream",
     "text": [
      "Relation R ( A x B) is : \n",
      " [[0.31 0.31 0.16 0.19]\n",
      " [0.45 0.45 0.16 0.19]\n",
      " [0.34 0.34 0.16 0.19]\n",
      " [0.72 0.49 0.16 0.19]]\n",
      "Relation S ( B x C) is : \n",
      " [[0.67 0.72 0.31]\n",
      " [0.49 0.49 0.31]\n",
      " [0.16 0.16 0.16]\n",
      " [0.19 0.19 0.19]]\n"
     ]
    }
   ],
   "source": [
    "'''Cartesion Product'''\n",
    "AXB = np.zeros((sizeA,sizeB))\n",
    "BXC = np.zeros((sizeB,sizeC))\n",
    "i=0\n",
    "for valA in fuzzy_Set_A.values():\n",
    "    j = 0\n",
    "    for valB in fuzzy_Set_B.values():\n",
    "        if valA < valB:\n",
    "            AXB[i][j] = valA\n",
    "        else:\n",
    "            AXB[i][j] = valB\n",
    "        j = j + 1\n",
    "    i = i + 1\n",
    "R = AXB\n",
    "print('Relation R ( A x B) is : \\n', R)\n",
    "\n",
    "i = 0\n",
    "for valB in fuzzy_Set_B.values():\n",
    "    j = 0\n",
    "    for valC in fuzzy_Set_C.values():\n",
    "        if valB < valC:\n",
    "            BXC[i][j] = valB\n",
    "        else:\n",
    "            BXC[i][j] = valC\n",
    "        j = j + 1\n",
    "    i = i + 1\n",
    "S = BXC\n",
    "print('Relation S ( B x C) is : \\n', S)"
   ]
  },
  {
   "cell_type": "code",
   "execution_count": 10,
   "metadata": {},
   "outputs": [
    {
     "name": "stdout",
     "output_type": "stream",
     "text": [
      "[0.31, 0.31, 0.16, 0.19]\n",
      "\n",
      "[0.31, 0.31, 0.16, 0.19]\n",
      "\n",
      "[0.31, 0.31, 0.16, 0.19]\n",
      "\n",
      "[0.45, 0.45, 0.16, 0.19]\n",
      "\n",
      "[0.45, 0.45, 0.16, 0.19]\n",
      "\n",
      "[0.31, 0.31, 0.16, 0.19]\n",
      "\n",
      "[0.34, 0.34, 0.16, 0.19]\n",
      "\n",
      "[0.34, 0.34, 0.16, 0.19]\n",
      "\n",
      "[0.31, 0.31, 0.16, 0.19]\n",
      "\n",
      "[0.67, 0.49, 0.16, 0.19]\n",
      "\n",
      "[0.72, 0.49, 0.16, 0.19]\n",
      "\n",
      "[0.31, 0.31, 0.16, 0.19]\n",
      "\n",
      "Max-min composition ROS is :\n",
      " [[0.31 0.31 0.31]\n",
      " [0.45 0.45 0.31]\n",
      " [0.34 0.34 0.31]\n",
      " [0.67 0.72 0.31]]\n"
     ]
    }
   ],
   "source": [
    "'''max-min composition'''\n",
    "ROS = np.zeros((sizeA,sizeC))\n",
    "for i in range(0,sizeA):\n",
    "    for j in range(0,sizeC):\n",
    "        element = []\n",
    "        for k in range(0,sizeB):\n",
    "            if R[i][k] < S[k][j]:\n",
    "                element.append(R[i][k])\n",
    "            else:\n",
    "                element.append(S[k][j])\n",
    "        print(element)\n",
    "        print()\n",
    "        ROS[i][j] = max(element)\n",
    "        \n",
    "print('Max-min composition ROS is :\\n', ROS)"
   ]
  },
  {
   "cell_type": "code",
   "execution_count": null,
   "metadata": {},
   "outputs": [],
   "source": []
  },
  {
   "cell_type": "code",
   "execution_count": null,
   "metadata": {},
   "outputs": [],
   "source": []
  }
 ],
 "metadata": {
  "kernelspec": {
   "display_name": "Python 3",
   "language": "python",
   "name": "python3"
  },
  "language_info": {
   "codemirror_mode": {
    "name": "ipython",
    "version": 3
   },
   "file_extension": ".py",
   "mimetype": "text/x-python",
   "name": "python",
   "nbconvert_exporter": "python",
   "pygments_lexer": "ipython3",
   "version": "3.8.2"
  }
 },
 "nbformat": 4,
 "nbformat_minor": 4
}
