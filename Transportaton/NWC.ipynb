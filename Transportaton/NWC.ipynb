{
 "cells": [
  {
   "cell_type": "code",
   "execution_count": 1,
   "metadata": {},
   "outputs": [],
   "source": [
    "import numpy as np\n",
    "import operator"
   ]
  },
  {
   "cell_type": "code",
   "execution_count": 2,
   "metadata": {},
   "outputs": [],
   "source": [
    "supply = np.array([150,160,90])\n",
    "demand = np.array([140,120,90,50])\n",
    "costs = np.array([[16,18,21,12],[17,19,14,13],[32,11,15,10]])\n",
    "\n",
    "n,m = costs.shape"
   ]
  },
  {
   "cell_type": "code",
   "execution_count": 3,
   "metadata": {},
   "outputs": [],
   "source": [
    "X = np.full((n, m), np.nan)\n",
    "allow_fill_X = np.ones((n, m), dtype=bool)\n",
    "indices = [(i, j) for i in range(n) for j in range(m)]"
   ]
  },
  {
   "cell_type": "code",
   "execution_count": 4,
   "metadata": {},
   "outputs": [],
   "source": [
    "C = np.copy(costs)\n",
    "\n",
    "xs = sorted(zip(indices, C.flatten()), key=operator.itemgetter(0))"
   ]
  },
  {
   "cell_type": "code",
   "execution_count": 5,
   "metadata": {},
   "outputs": [
    {
     "name": "stdout",
     "output_type": "stream",
     "text": [
      "[((0, 0), 16), ((0, 1), 18), ((0, 2), 21), ((0, 3), 12), ((1, 0), 17), ((1, 1), 19), ((1, 2), 14), ((1, 3), 13), ((2, 0), 32), ((2, 1), 11), ((2, 2), 15), ((2, 3), 10)]\n"
     ]
    }
   ],
   "source": [
    "print(xs)"
   ]
  },
  {
   "cell_type": "code",
   "execution_count": 6,
   "metadata": {},
   "outputs": [],
   "source": [
    "def _fill_zero_indice(i, j): \n",
    "    allow_fill_X[i, j] = False\n",
    "    allowed_indices_i = [(i, jj) for jj in range(m) if allow_fill_X[i, jj]]\n",
    "    allowed_indices_j = [(ii, j) for ii in range(n) if allow_fill_X[ii, j]]\n",
    "    allowed_indices = allowed_indices_i + allowed_indices_j\n",
    "    if allowed_indices:\n",
    "        return allowed_indices[0]\n",
    "    else:\n",
    "        return None"
   ]
  },
  {
   "cell_type": "code",
   "execution_count": 7,
   "metadata": {},
   "outputs": [
    {
     "name": "stdout",
     "output_type": "stream",
     "text": [
      "(0, 0) 140\n",
      "[[ True  True  True  True]\n",
      " [ True  True  True  True]\n",
      " [ True  True  True  True]]\n",
      "(0, 1) 10\n",
      "[[False  True  True  True]\n",
      " [False  True  True  True]\n",
      " [False  True  True  True]]\n",
      "(0, 2) 0\n",
      "(0, 3) 0\n",
      "(1, 0) 0\n",
      "(1, 1) 110\n",
      "[[False False False False]\n",
      " [False  True  True  True]\n",
      " [False  True  True  True]]\n",
      "(1, 2) 50\n",
      "[[False False False False]\n",
      " [False False  True  True]\n",
      " [False False  True  True]]\n",
      "(1, 3) 0\n",
      "(2, 0) 0\n",
      "(2, 1) 0\n",
      "(2, 2) 40\n",
      "[[False False False False]\n",
      " [False False False False]\n",
      " [False False  True  True]]\n",
      "(2, 3) 50\n",
      "[[False False False False]\n",
      " [False False False False]\n",
      " [False False False False]]\n"
     ]
    }
   ],
   "source": [
    "s = np.copy(supply)\n",
    "d = np.copy(demand)\n",
    "\n",
    "for (i, j), _ in xs:\n",
    "    get_min = min(s[i],d[j])\n",
    "    print((i,j),get_min)\n",
    "    if get_min == 0:\n",
    "        continue\n",
    "    elif not np.isnan(X[i,j]):\n",
    "        continue\n",
    "    else:\n",
    "        X[i, j] = get_min\n",
    "        if s[i] == get_min and d[j] == get_min:\n",
    "            fill_zero_indices = _fill_zero_indice(i, j)\n",
    "            if fill_zero_indices:\n",
    "                X[fill_zero_indices] = 0\n",
    "                allow_fill_X[fill_zero_indices] = False\n",
    "        s[i] -= get_min\n",
    "        d[j] -= get_min\n",
    "        print(allow_fill_X)\n",
    "    \n",
    "    if d[j] == 0:\n",
    "        allow_fill_X[:,j] = False\n",
    "    if s[i] == 0:\n",
    "        allow_fill_X[i,:] = False"
   ]
  },
  {
   "cell_type": "code",
   "execution_count": 8,
   "metadata": {},
   "outputs": [
    {
     "name": "stdout",
     "output_type": "stream",
     "text": [
      "[16 18 21 12] 150\n",
      "[17 19 14 13] 160\n",
      "[32 11 15 10] 90\n",
      "[140 120  90  50]\n",
      "[[140.  10.  nan  nan]\n",
      " [ nan 110.  50.  nan]\n",
      " [ nan  nan  40.  50.]]\n"
     ]
    }
   ],
   "source": [
    "for idx in range(3):\n",
    "    print(costs[idx,:],supply[idx])\n",
    "\n",
    "print(demand)\n",
    "print(X)"
   ]
  },
  {
   "cell_type": "code",
   "execution_count": 9,
   "metadata": {},
   "outputs": [
    {
     "name": "stdout",
     "output_type": "stream",
     "text": [
      "6310.0\n"
     ]
    }
   ],
   "source": [
    "X_final = np.copy(X)\n",
    "for i in range(0, n):\n",
    "    for j in range(0,m):\n",
    "        if np.isnan(X_final[i, j]):\n",
    "            X_final[i, j] = 0\n",
    "            \n",
    "sumT = np.sum(X_final*C)\n",
    "print(sumT)"
   ]
  },
  {
   "cell_type": "code",
   "execution_count": null,
   "metadata": {},
   "outputs": [],
   "source": []
  }
 ],
 "metadata": {
  "kernelspec": {
   "display_name": "Python 3",
   "language": "python",
   "name": "python3"
  },
  "language_info": {
   "codemirror_mode": {
    "name": "ipython",
    "version": 3
   },
   "file_extension": ".py",
   "mimetype": "text/x-python",
   "name": "python",
   "nbconvert_exporter": "python",
   "pygments_lexer": "ipython3",
   "version": "3.8.2"
  }
 },
 "nbformat": 4,
 "nbformat_minor": 4
}
