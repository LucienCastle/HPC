{
 "cells": [
  {
   "cell_type": "code",
   "execution_count": 1,
   "metadata": {},
   "outputs": [],
   "source": [
    "import numpy as np\n",
    "import operator"
   ]
  },
  {
   "cell_type": "code",
   "execution_count": 2,
   "metadata": {},
   "outputs": [],
   "source": [
    "supply = np.array([150,160,90])\n",
    "demand = np.array([140,120,90,50])\n",
    "costs = np.array([[16,18,21,12],[17,19,14,13],[32,11,15,10]])\n",
    "\n",
    "n,m = costs.shape"
   ]
  },
  {
   "cell_type": "code",
   "execution_count": 3,
   "metadata": {},
   "outputs": [],
   "source": [
    "X = np.full((n, m), np.nan)\n",
    "allow_fill_X = np.ones((n, m), dtype=bool)\n",
    "indices = [(i, j) for i in range(n) for j in range(m)]"
   ]
  },
  {
   "cell_type": "code",
   "execution_count": 4,
   "metadata": {},
   "outputs": [],
   "source": [
    "def _fill_zero_indice(i, j): \n",
    "    allow_fill_X[i, j] = False\n",
    "    allowed_indices_i = [(i, jj) for jj in range(m) if allow_fill_X[i, jj]]\n",
    "    allowed_indices_j = [(ii, j) for ii in range(n) if allow_fill_X[ii, j]]\n",
    "    allowed_indices = allowed_indices_i + allowed_indices_j\n",
    "    if allowed_indices:\n",
    "        return allowed_indices[0]\n",
    "    else:\n",
    "        return None"
   ]
  },
  {
   "cell_type": "code",
   "execution_count": 7,
   "metadata": {},
   "outputs": [],
   "source": [
    "C = np.copy(costs)\n",
    "s = np.copy(supply)\n",
    "d = np.copy(demand)"
   ]
  },
  {
   "cell_type": "code",
   "execution_count": 9,
   "metadata": {},
   "outputs": [],
   "source": [
    "n_iter = 0\n",
    "while n_iter < m + n - 1:\n",
    "    row_diff = np.array([np.nan]*n)\n",
    "    col_diff = np.array([np.nan]*m)\n",
    "    for i in range(n):\n",
    "        row_allowed = []\n",
    "        for j in range(m):\n",
    "            if allow_fill_X[i, j]:\n",
    "                row_allowed.append(C[i, j])\n",
    "        row_allowed_sorted = sorted(row_allowed)\n",
    "        try:\n",
    "            row_diff[i] = abs(row_allowed_sorted[0] - row_allowed_sorted[1])\n",
    "        except:\n",
    "            row_diff[i] = np.nan\n",
    "    for j in range(m):\n",
    "        col_allowed = []\n",
    "        for i in range(n):\n",
    "            if allow_fill_X[i, j]:\n",
    "                col_allowed.append(C[i, j])\n",
    "        col_allowed_sorted = sorted(col_allowed)\n",
    "        try:\n",
    "            col_diff[j] = abs(col_allowed_sorted[0] - col_allowed_sorted[1])\n",
    "        except:\n",
    "            col_diff[j] = np.nan\n",
    "\n",
    "    try:\n",
    "        diff = np.concatenate((row_diff, col_diff))\n",
    "        max_diff_index = np.nanargmax(diff)\n",
    "        max_diff = diff[max_diff_index]\n",
    "    except:\n",
    "        max_diff = None\n",
    "    \n",
    "    if max_diff:\n",
    "        located = False\n",
    "        while not located:\n",
    "            for i in range(n):\n",
    "                if row_diff[i] == max_diff:\n",
    "                    located = True\n",
    "                    located_type = \"row\"\n",
    "                    located_index = i\n",
    "                    break\n",
    "            for j in range(m):\n",
    "                if col_diff[j] == max_diff:\n",
    "                    located = True\n",
    "                    located_type = \"col\"\n",
    "                    located_index = j\n",
    "                    break\n",
    "\n",
    "        if located_type == \"row\":\n",
    "            row_indices = [(located_index, j) for j in range(m) if allow_fill_X[located_index, j]]\n",
    "            row_values = [C[located_index,j] for j in range(m) if allow_fill_X[located_index, j]]\n",
    "            xs = sorted(zip(row_indices, row_values), key=operator.itemgetter(1))\n",
    "        else:\n",
    "            col_indices = [(i, located_index) for i in range(n) if allow_fill_X[i, located_index]]\n",
    "            col_values = [C[i, located_index] for i in range(n) if allow_fill_X[i, located_index]]\n",
    "            xs = sorted(zip(col_indices, col_values), key=operator.itemgetter(1))\n",
    "\n",
    "        (i, j), _ = xs[0]\n",
    "    else:\n",
    "        xs = [(i, j) for i in range(n) for j in range(m) if allow_fill_X[i, j]]\n",
    "        (i, j) = xs[0]\n",
    "            \n",
    "    grabbed = min([s[i], d[j]])\n",
    "    X[i, j] = grabbed\n",
    "    if s[i] == grabbed and d[j] == grabbed:\n",
    "        fill_zero_indices = _fill_zero_indice(i, j)\n",
    "        if fill_zero_indices:\n",
    "            X[fill_zero_indices] = 0\n",
    "            allow_fill_X[fill_zero_indices] = False\n",
    "            n_iter += 1\n",
    "\n",
    "    s[i] -= grabbed\n",
    "    d[j] -= grabbed\n",
    "\n",
    "    if d[j] == 0:\n",
    "        allow_fill_X[:, j] = False\n",
    "    if s[i] == 0:\n",
    "        allow_fill_X[i, :] = False\n",
    "\n",
    "    n_iter += 1"
   ]
  },
  {
   "cell_type": "code",
   "execution_count": 10,
   "metadata": {},
   "outputs": [
    {
     "name": "stdout",
     "output_type": "stream",
     "text": [
      "[16 18 21 12] 150\n",
      "[17 19 14 13] 160\n",
      "[32 11 15 10] 90\n",
      "[140 120  90  50]\n",
      "[[100.  nan  nan  50.]\n",
      " [ 40.  30.  90.  nan]\n",
      " [ nan  90.  nan  nan]]\n"
     ]
    }
   ],
   "source": [
    "for idx in range(3):\n",
    "    print(costs[idx,:],supply[idx])\n",
    "\n",
    "print(demand)\n",
    "print(X)"
   ]
  },
  {
   "cell_type": "code",
   "execution_count": 11,
   "metadata": {},
   "outputs": [
    {
     "name": "stdout",
     "output_type": "stream",
     "text": [
      "5700.0\n"
     ]
    }
   ],
   "source": [
    "X_final = np.copy(X)\n",
    "for i in range(0, n):\n",
    "    for j in range(0,m):\n",
    "        if np.isnan(X_final[i, j]):\n",
    "            X_final[i, j] = 0\n",
    "            \n",
    "sumT = np.sum(X_final*C)\n",
    "print(sumT)"
   ]
  },
  {
   "cell_type": "code",
   "execution_count": null,
   "metadata": {},
   "outputs": [],
   "source": []
  }
 ],
 "metadata": {
  "kernelspec": {
   "display_name": "Python 3",
   "language": "python",
   "name": "python3"
  },
  "language_info": {
   "codemirror_mode": {
    "name": "ipython",
    "version": 3
   },
   "file_extension": ".py",
   "mimetype": "text/x-python",
   "name": "python",
   "nbconvert_exporter": "python",
   "pygments_lexer": "ipython3",
   "version": "3.8.2"
  }
 },
 "nbformat": 4,
 "nbformat_minor": 4
}
